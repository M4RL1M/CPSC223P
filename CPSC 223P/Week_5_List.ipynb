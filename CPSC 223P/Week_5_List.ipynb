{
  "cells": [
    {
      "cell_type": "markdown",
      "metadata": {
        "id": "Ro7nb3bRbflL"
      },
      "source": [
        "# Section 5.1: More on Lists\n",
        "\n",
        "- Lists are mutable and support several methods:\n",
        "  - `append`: Add an element to the end.\n",
        "  - `extend`: Add multiple elements.\n",
        "  - `insert`: Add an element at a specific index.\n",
        "  - `remove`: Remove the first occurrence of a value.\n"
      ]
    },
    {
      "cell_type": "code",
      "execution_count": 8,
      "metadata": {
        "colab": {
          "base_uri": "https://localhost:8080/"
        },
        "id": "0W067jzdbh0z",
        "outputId": "ceaa1035-c59e-4cda-f327-31bd9897d765"
      },
      "outputs": [
        {
          "name": "stdout",
          "output_type": "stream",
          "text": [
            "After append: ['orange', 'apple', 'pear', 'kiwi']\n",
            "After extend: ['orange', 'apple', 'pear', 'kiwi', 'banana', 'mango']\n",
            "After insert: ['orange', 'peach', 'apple', 'pear', 'kiwi', 'banana', 'mango']\n",
            "After remove: ['orange', 'peach', 'pear', 'kiwi', 'banana', 'mango']\n",
            "After remove index ['peach', 'pear', 'kiwi', 'banana', 'mango']\n"
          ]
        }
      ],
      "source": [
        "# List Operations\n",
        "fruits = ['orange', 'apple', 'pear']\n",
        "\n",
        "# Append\n",
        "fruits.append('kiwi')\n",
        "print(\"After append:\", fruits)\n",
        "\n",
        "# Extend\n",
        "fruits.extend(['banana', 'mango'])\n",
        "print(\"After extend:\", fruits)\n",
        "\n",
        "# Insert\n",
        "fruits.insert(1, 'peach')\n",
        "print(\"After insert:\", fruits)\n",
        "\n",
        "# Remove\n",
        "fruits.remove('apple')\n",
        "print(\"After remove:\", fruits)\n",
        "\n",
        "#remove using index\n",
        "fruits.remove(fruits[0])\n",
        "print(\"After remove index\", fruits)"
      ]
    },
    {
      "cell_type": "code",
      "execution_count": 9,
      "metadata": {
        "colab": {
          "base_uri": "https://localhost:8080/"
        },
        "id": "7ZZIY7Ehd0d5",
        "outputId": "b8890bab-a06a-4845-8376-dac22677c604"
      },
      "outputs": [
        {
          "name": "stdout",
          "output_type": "stream",
          "text": [
            "[1, 4, 3, 16, 5]\n"
          ]
        }
      ],
      "source": [
        "numbers = [1, 2, 3, 4, 5]\n",
        "updated_list = list(map(lambda x: x ** 2 if x % 2 == 0 else x, numbers))\n",
        "print(updated_list)"
      ]
    },
    {
      "cell_type": "markdown",
      "metadata": {
        "id": "77XsJgkJbkWK"
      },
      "source": [
        "# Section 5.1: More on Lists (cont.)\n",
        "\n",
        "- Additional List Methods:\n",
        "  - `pop`: Remove and return an element.\n",
        "  - `clear`: Remove all elements.\n",
        "  - `index`: Get the index of an element.\n",
        "  - `count`: Count occurrences of an element.\n",
        "  - `reverse`: Reverse the list.\n",
        "  - `copy`: Create a shallow copy."
      ]
    },
    {
      "cell_type": "code",
      "execution_count": 10,
      "metadata": {
        "colab": {
          "base_uri": "https://localhost:8080/"
        },
        "id": "iiYe5E_Bblkq",
        "outputId": "1abfc857-8b71-4297-9f2b-33524b4dbcf5"
      },
      "outputs": [
        {
          "name": "stdout",
          "output_type": "stream",
          "text": [
            "Popped item: cherry\n",
            "Popped item: apple\n",
            "After clear: []\n",
            "Index of 'banana': 1\n",
            "Count of 'apple': 1\n",
            "Reversed list: ['cherry', 'banana', 'apple']\n",
            "Copied list: ['cherry', 'banana', 'apple']\n",
            "Original list ['cherry', 'orange', 'apple']\n",
            "Shallow copied list ['cherry', 'banana', 'apple']\n"
          ]
        }
      ],
      "source": [
        "# Advanced List Operations\n",
        "fruits = ['apple', 'banana', 'cherry']\n",
        "\n",
        "# Pop\n",
        "item = fruits.pop()  # Removes last item\n",
        "print(\"Popped item:\", item)\n",
        "\n",
        "# Pop at the first element\n",
        "item = fruits.pop(0)  # Removes last item\n",
        "print(\"Popped item:\", item)\n",
        "\n",
        "# Clear\n",
        "fruits.clear()\n",
        "print(\"After clear:\", fruits)\n",
        "\n",
        "# Index\n",
        "fruits = ['apple', 'banana', 'cherry']\n",
        "index = fruits.index('banana')\n",
        "print(\"Index of 'banana':\", index)\n",
        "\n",
        "# Count\n",
        "print(\"Count of 'apple':\", fruits.count('apple'))\n",
        "\n",
        "# Reverse\n",
        "fruits.reverse()\n",
        "print(\"Reversed list:\", fruits)\n",
        "\n",
        "# Copy\n",
        "copied_list = fruits.copy()\n",
        "print(\"Copied list:\", copied_list)\n",
        "\n",
        "new_fruits=\"orange\"\n",
        "fruits[1] = new_fruits\n",
        "print(\"Original list\",fruits)\n",
        "print(\"Shallow copied list\",copied_list)\n",
        "\n",
        "#create new alias\n",
        "grocery = fruits\n",
        "\n"
      ]
    },
    {
      "cell_type": "markdown",
      "metadata": {
        "id": "uxIUZD9UbppB"
      },
      "source": [
        "# Section 5.1.1: Using Lists as Stacks\n",
        "\n",
        "- Lists can be used as stacks (Last-In, First-Out).\n",
        "- Use `append` to add items and `pop` to remove the last item.\n",
        "\n",
        "- Example Code demonstrates stack operations.\n"
      ]
    },
    {
      "cell_type": "code",
      "execution_count": 11,
      "metadata": {
        "colab": {
          "base_uri": "https://localhost:8080/"
        },
        "id": "SrNDyTtnbqhp",
        "outputId": "aa19a710-7f8f-48f2-81c9-f25cd6114821"
      },
      "outputs": [
        {
          "name": "stdout",
          "output_type": "stream",
          "text": [
            "Stack after push: [3, 4, 5, 6, 7]\n",
            "Stack after pop: [3, 4, 5, 6]\n"
          ]
        }
      ],
      "source": [
        "# Stack Implementation\n",
        "stack = [3, 4, 5]\n",
        "\n",
        "# Push\n",
        "stack.append(6)\n",
        "stack.append(7)\n",
        "print(\"Stack after push:\", stack)\n",
        "\n",
        "# Pop\n",
        "stack.pop()\n",
        "print(\"Stack after pop:\", stack)\n"
      ]
    },
    {
      "cell_type": "code",
      "execution_count": 12,
      "metadata": {
        "colab": {
          "base_uri": "https://localhost:8080/"
        },
        "id": "booGnUNOn93h",
        "outputId": "4103d5a6-09b0-448e-8293-cc37537dcbae"
      },
      "outputs": [
        {
          "name": "stdout",
          "output_type": "stream",
          "text": [
            "Stack string: ['T', 'o', 'd', 'a', 'y', ' ', 'i', 's', ' ', 'a', ' ', 'h', 'a', 'p', 'p', 'y', ' ', 'd', 'a', 'y']\n",
            "Reversed string: yad yppah a si yadoT\n",
            "Reversed string using slicing yad yppah a si yadoT\n"
          ]
        }
      ],
      "source": [
        "### Problems: Reverse a string using stack ###\n",
        "str = \"Today is a happy day\"\n",
        "\n",
        "stack_str = []\n",
        "\n",
        "reversed_str = \"\"\n",
        "\n",
        "for index in range(len(str)):\n",
        "    stack_str.extend(str[index])\n",
        "print(\"Stack string:\",stack_str)\n",
        "\n",
        "for index in range(len(str)):\n",
        "    reversed_str += stack_str.pop()\n",
        "print(\"Reversed string:\",reversed_str)\n",
        "print(\"Reversed string using slicing\", str[::-1])"
      ]
    },
    {
      "cell_type": "markdown",
      "metadata": {
        "id": "Gz8yfQQxbsNM"
      },
      "source": [
        "# Section 5.1.2: Using Lists as Queues\n",
        "\n",
        "- For efficient First-In, First-Out operations, use `collections.deque`.\n",
        "- Append to the end and pop from the beginning.\n",
        "\n",
        "- Example Code demonstrates queue operations.\n"
      ]
    },
    {
      "cell_type": "code",
      "execution_count": 13,
      "metadata": {
        "colab": {
          "base_uri": "https://localhost:8080/"
        },
        "id": "pfPP8DM9btec",
        "outputId": "92514bf0-39bb-4980-a496-ccdc4115c7a1"
      },
      "outputs": [
        {
          "name": "stdout",
          "output_type": "stream",
          "text": [
            "Queue: deque(['Eric', 'John', 'Michael', 'Terry', 'Graham'])\n",
            "After dequeuing: deque(['John', 'Michael', 'Terry', 'Graham'])\n"
          ]
        }
      ],
      "source": [
        "from collections import deque\n",
        "\n",
        "# Queue Implementation\n",
        "queue = deque([\"Eric\", \"John\", \"Michael\"])\n",
        "queue.append(\"Terry\")  # Enqueue\n",
        "queue.append(\"Graham\")\n",
        "\n",
        "print(\"Queue:\", queue)\n",
        "\n",
        "queue.popleft()  # Dequeue\n",
        "print(\"After dequeuing:\", queue)\n"
      ]
    },
    {
      "cell_type": "markdown",
      "metadata": {
        "id": "zhrzMM0imBHP"
      },
      "source": [
        "### Starbucks Queue Problems\n",
        "\n",
        "A line at Starbuck has 6 buyers: John, Susan, David, Matthew, Jay, Kim, Lan (starting with John and ending with Lan). After the barista sell coffee to 2 prople, another buyer, Hu, joined the queue. Impletement a data structure in Python represent this queue and ensure that first person in the queue is the first person leave the queue.\n",
        "\n",
        "\n"
      ]
    },
    {
      "cell_type": "code",
      "execution_count": 14,
      "metadata": {
        "colab": {
          "base_uri": "https://localhost:8080/"
        },
        "id": "Qrm6-teInPOD",
        "outputId": "d6f18587-d4c1-4ecd-cdb6-68bc697b5f0f"
      },
      "outputs": [
        {
          "name": "stdout",
          "output_type": "stream",
          "text": [
            "Original Queue: deque(['John', 'Susan', 'David', 'Matthew', 'Jay', 'Kim', 'Lan'])\n",
            "John got coffee\n",
            "Susan got coffee\n",
            "David got coffee\n",
            "Matthew got coffee\n",
            "Jay got coffee\n",
            "Kim got coffee\n",
            "Lan got coffee\n",
            "Hu got coffee\n"
          ]
        }
      ],
      "source": [
        "### Implement our Starbucks Queue problems here ###\n",
        "from collections import deque\n",
        "\n",
        "starbucks_queue = deque([\"John\", \"Susan\", \"David\", \"Matthew\", \"Jay\", \"Kim\", \"Lan\"])\n",
        "print(\"Original Queue:\", starbucks_queue)\n",
        "\n",
        "for i in range(8):\n",
        "  print(starbucks_queue.popleft(), \"got coffee\")\n",
        "  if i == 1:\n",
        "    starbucks_queue.append(\"Hu\")\n"
      ]
    },
    {
      "cell_type": "markdown",
      "metadata": {
        "id": "j599deLpbuwe"
      },
      "source": [
        "# Section 5.1.3: List Comprehensions\n",
        "\n",
        "- List comprehensions provide a concise way to create lists.\n",
        "- Syntax: `[expression for item in iterable if condition]`\n",
        "- Example Code demonstrates list comprehensions.\n"
      ]
    },
    {
      "cell_type": "code",
      "execution_count": 15,
      "metadata": {
        "colab": {
          "base_uri": "https://localhost:8080/"
        },
        "id": "eVyG9x3cbxEw",
        "outputId": "7b7bbbe3-913d-49f6-9089-39ac2d061121"
      },
      "outputs": [
        {
          "name": "stdout",
          "output_type": "stream",
          "text": [
            "Squares: [0, 1, 4, 9, 16, 25, 36, 49, 64, 81]\n",
            "Filtered squares: [0, 4, 16, 36, 64]\n"
          ]
        }
      ],
      "source": [
        "# List Comprehension Examples\n",
        "\n",
        "# Squares\n",
        "squares = [x**2 for x in range(10)]\n",
        "print(\"Squares:\", squares)\n",
        "\n",
        "# Filtered Squares\n",
        "filtered_squares = [x**2 for x in range(10) if x % 2 == 0]\n",
        "print(\"Filtered squares:\", filtered_squares)\n"
      ]
    },
    {
      "cell_type": "markdown",
      "metadata": {
        "id": "5cwjtqFOcZll"
      },
      "source": [
        "# Section 5.2: The `del` statement\n",
        "- The `del` statement can be used to:\n",
        "  - Remove an item from a list given its index.\n",
        "  - Remove slices from a list.\n",
        "  - Delete entire variables.\n",
        "\n",
        "- **Differences from `pop`:**\n",
        "  - `pop()` removes and returns an item.\n",
        "  - `del` removes an item but does not return it.\n",
        "\n",
        "- **Note:**\n",
        "  - After using `del` on a variable, referencing the variable will result in an error.\n",
        "\n",
        "- Example Code demonstrates various use cases of the `del` statement."
      ]
    },
    {
      "cell_type": "code",
      "execution_count": 16,
      "metadata": {
        "colab": {
          "base_uri": "https://localhost:8080/"
        },
        "id": "c059PSY8cbPg",
        "outputId": "7e0877e7-336e-4de8-c126-0202b1732b45"
      },
      "outputs": [
        {
          "name": "stdout",
          "output_type": "stream",
          "text": [
            "After deleting index 1: ['apple', 'cherry', 'date']\n",
            "After deleting slice [1:3]: ['apple', 'date']\n",
            "x before deletion: 10\n"
          ]
        }
      ],
      "source": [
        "# Using the del statement\n",
        "\n",
        "# Remove an item by index\n",
        "fruits = ['apple', 'banana', 'cherry', 'date']\n",
        "del fruits[1]  # Removes 'banana'\n",
        "print(\"After deleting index 1:\", fruits)\n",
        "\n",
        "# Remove a slice\n",
        "fruits = ['apple', 'banana', 'cherry', 'date']\n",
        "del fruits[1:3]  # Removes 'banana' and 'cherry'\n",
        "print(\"After deleting slice [1:3]:\", fruits)\n",
        "\n",
        "# Delete entire variable\n",
        "x = 10\n",
        "print(\"x before deletion:\", x)\n",
        "del x\n",
        "# Uncommenting the next line will raise an error as x no longer exists\n",
        "# print(x)\n"
      ]
    },
    {
      "cell_type": "markdown",
      "metadata": {
        "id": "3VDRrxZzbydv"
      },
      "source": [
        "# Section 5.3: Tuples and Sequences\n",
        "\n",
        "- Tuples are immutable sequences of values.\n",
        "- They can be unpacked into variables.\n",
        "\n",
        "- Example Code demonstrates tuples and unpacking.\n"
      ]
    },
    {
      "cell_type": "code",
      "execution_count": 17,
      "metadata": {
        "colab": {
          "base_uri": "https://localhost:8080/"
        },
        "id": "2Moz3ZPgbzWT",
        "outputId": "7c268c93-dc4e-4216-b73c-a51ac08438ee"
      },
      "outputs": [
        {
          "name": "stdout",
          "output_type": "stream",
          "text": [
            "Tuple: (12345, 54321, 'hello')\n",
            "Unpacked values: 12345 54321 hello\n"
          ]
        }
      ],
      "source": [
        "# Tuples and Unpacking\n",
        "t = (12345, 54321, 'hello')\n",
        "\n",
        "# Access Elements\n",
        "print(\"Tuple:\", t)\n",
        "\n",
        "# Unpacking\n",
        "x, y, z = t\n",
        "print(\"Unpacked values:\", x, y, z)\n"
      ]
    },
    {
      "cell_type": "markdown",
      "metadata": {
        "id": "jL1aElMnb0jN"
      },
      "source": [
        "# Section 5.4: Sets\n",
        "\n",
        "- Sets are unordered collections with no duplicate elements.\n",
        "- Sets are created using curly bracket '{ }' (Similar to dictionary but without\n",
        "key:value pair)\n",
        "- Perform operations like union, intersection, and difference.\n",
        "- 0/1 vs False/True are considered as the same in set.\n",
        "- You can also use set() constructor to create set. Be sure that your input is iteratable\n",
        "\n",
        "- Example Code demonstrates set operations.\n"
      ]
    },
    {
      "cell_type": "code",
      "execution_count": 18,
      "metadata": {
        "colab": {
          "base_uri": "https://localhost:8080/"
        },
        "id": "MPzzI5tYb2FQ",
        "outputId": "7ff2d88b-4676-4f76-fda9-ed4179193230"
      },
      "outputs": [
        {
          "name": "stdout",
          "output_type": "stream",
          "text": [
            "Unique items: {'orange', 'pear', 'apple'}\n",
            "No duplicate set: {'beef', 'chicken', 'egg'}\n",
            "Set comprehension: {'d', 'r'}\n",
            "Set with 0 and False: {0, True}\n",
            "Set constructor: {'beef', 'chicken', 'egg'}\n"
          ]
        }
      ],
      "source": [
        "# Set Operations\n",
        "basket = {'apple', 'orange', 'apple', 'pear'}\n",
        "print(\"Unique items:\", basket)\n",
        "\n",
        "# Duplicated Items will be ignored\n",
        "grocery = {'beef', 'chicken', 'egg', 'beef'}\n",
        "print(\"No duplicate set:\", grocery)\n",
        "\n",
        "# Set Comprehension\n",
        "a = {x for x in 'abracadabra' if x not in 'abc'}\n",
        "print(\"Set comprehension:\", a)\n",
        "\n",
        "# 0/1 vs False/True example:\n",
        "my_set = {True, 1, 0, False}\n",
        "print(\"Set with 0 and False:\", my_set)\n",
        "\n",
        "# Set contructor\n",
        "dinner = set(['beef', 'chicken', 'egg'] )\n",
        "print(\"Set constructor:\", dinner)\n"
      ]
    },
    {
      "cell_type": "markdown",
      "metadata": {
        "id": "xo4KSw_rMAgf"
      },
      "source": [
        "### Operations for Set\n",
        "\n",
        "  - `set.add(item)`: add item to set\n",
        "  - `set.remove(item)`: remove item from set. Will raise error if item is not found\n",
        "  - `set.discard(item)`: remove item from set. Will not raise error if item is not found\n",
        "  - Mathematical operation on set A and set B:\n",
        "    - `A-B`: return a difference set\n",
        "    - `A|B`: return a union set\n",
        "    - `A&B`: return an intersection set\n",
        "    - `A^B`: return a symmetric difference set\n",
        "    - Note that mathematical operation on set will return a new set"
      ]
    },
    {
      "cell_type": "code",
      "execution_count": 19,
      "metadata": {
        "colab": {
          "base_uri": "https://localhost:8080/"
        },
        "id": "z8szQJIMOU3a",
        "outputId": "69edea86-82b9-4627-e529-bdd8d48f0e97"
      },
      "outputs": [
        {
          "name": "stdout",
          "output_type": "stream",
          "text": [
            "After adding 10 to A: {1, 2, 3, 4, 5, 10}\n",
            "After removing 10 from A: {1, 2, 3, 4, 5}\n",
            "After discarding 10 from A: {1, 2, 3, 4, 5}\n"
          ]
        }
      ],
      "source": [
        "A = {1,2,3,4,5}\n",
        "B = {4,5,6,7,8}\n",
        "\n",
        "#Add item to A\n",
        "A.add(10)\n",
        "print(\"After adding 10 to A:\", A)\n",
        "\n",
        "#Remove item from A\n",
        "A.remove(10)\n",
        "print(\"After removing 10 from A:\", A)\n",
        "\n",
        "#Discard item from A\n",
        "A.discard(10)\n",
        "print(\"After discarding 10 from A:\", A)"
      ]
    },
    {
      "cell_type": "code",
      "execution_count": 20,
      "metadata": {
        "colab": {
          "base_uri": "https://localhost:8080/"
        },
        "id": "-7c4053KO2dc",
        "outputId": "0c29a1b3-2009-484f-8536-184986c36059"
      },
      "outputs": [
        {
          "name": "stdout",
          "output_type": "stream",
          "text": [
            "Difference set: {1, 2, 3}\n",
            "Union set: {1, 2, 3, 4, 5, 6, 7, 8}\n",
            "Intersection set: {4, 5}\n",
            "Symmetric difference set: {1, 2, 3, 6, 7, 8}\n"
          ]
        }
      ],
      "source": [
        "#Mathematical operation on set\n",
        "\n",
        "difference_set= A-B\n",
        "union_set= A|B\n",
        "intersection_set= A&B\n",
        "symmetric_difference= A^B\n",
        "print(\"Difference set:\", difference_set)\n",
        "print(\"Union set:\", union_set)\n",
        "print(\"Intersection set:\", intersection_set)\n",
        "print(\"Symmetric difference set:\", symmetric_difference)"
      ]
    },
    {
      "cell_type": "markdown",
      "metadata": {
        "id": "Vd0G4IOXb33N"
      },
      "source": [
        "# Section 5.5: Dictionaries\n",
        "\n",
        "- Dictionaries store key-value pairs.\n",
        "- Keys must be unique and immutable.\n",
        "\n",
        "- Example Code demonstrates dictionary operations.\n"
      ]
    },
    {
      "cell_type": "code",
      "execution_count": 21,
      "metadata": {
        "colab": {
          "base_uri": "https://localhost:8080/"
        },
        "id": "ZLAaGLkGb5Ur",
        "outputId": "91ecc2b1-f28a-4625-bdc4-228a5d2b383b"
      },
      "outputs": [
        {
          "name": "stdout",
          "output_type": "stream",
          "text": [
            "Dictionary: {'jack': {4098: 'birthday'}, 'sape': 4139, 'guido': 4127}\n",
            "After change: {'jack': 4098, 'sape': 4139, 'guido': 4127}\n",
            "After deletion: {'jack': 4098, 'guido': 4127}\n",
            "Is 'jack' in dictionary? True\n"
          ]
        }
      ],
      "source": [
        "# Dictionary Operations\n",
        "tel = {'jack': {4098 : 'birthday'}, 'sape': 4139}\n",
        "\n",
        "# Add Entry\n",
        "tel['guido'] = 4127\n",
        "print(\"Dictionary:\", tel)\n",
        "\n",
        "#Change Entry\n",
        "tel['jack'] = 4098\n",
        "print(\"After change:\", tel)\n",
        "\n",
        "# Delete Entry\n",
        "del tel['sape']\n",
        "print(\"After deletion:\", tel)\n",
        "\n",
        "# Check Key\n",
        "print(\"Is 'jack' in dictionary?\", 'jack' in tel)\n"
      ]
    },
    {
      "cell_type": "markdown",
      "metadata": {
        "id": "Je4INxUQeeCz"
      },
      "source": [
        "# Section 5.5: Dictionaries - Key-Value Pairs and Key Constraints\n",
        "\n",
        "- **Dictionaries Overview**:\n",
        "  - A dictionary is a collection of **key-value pairs**, where:\n",
        "    - **Keys must be unique** within a dictionary.\n",
        "    - **Values can be any type**.\n",
        "\n",
        "- **Creating Dictionaries**:\n",
        "  - A dictionary is defined using `{ key: value }` pairs.\n",
        "  - An empty dictionary is created using `{}`.\n",
        "\n",
        "- **Indexing in Dictionaries**:\n",
        "  - Unlike sequences (which use numerical indexes), **dictionaries are indexed by keys**.\n",
        "  - Keys can be **any immutable type**:\n",
        "    - Strings, numbers, and tuples (if they contain only immutable elements) **can** be keys.\n",
        "    - **Lists cannot be keys** because they are mutable.\n",
        "\n",
        "- **Example Code demonstrates these concepts.**\n"
      ]
    },
    {
      "cell_type": "code",
      "execution_count": 22,
      "metadata": {
        "colab": {
          "base_uri": "https://localhost:8080/"
        },
        "id": "gf4s6jE4eg_P",
        "outputId": "d7a882cb-64e0-48ac-e358-ee0f506c0a19"
      },
      "outputs": [
        {
          "name": "stdout",
          "output_type": "stream",
          "text": [
            "Dictionary: {'Alice': 85, 'Bob': 90, 'Charlie': 78}\n",
            "Alice's Score: 85\n",
            "After adding David: {'Alice': 85, 'Bob': 90, 'Charlie': 78, 'David': 92}\n",
            "Empty Dictionary: {}\n",
            "Dictionary with various key types: {42: 'The Answer', 3.14: 'Pi', (1, 2): 'Tuple Key'}\n"
          ]
        }
      ],
      "source": [
        "# Creating a Dictionary\n",
        "student_scores = {\n",
        "    \"Alice\": 85,\n",
        "    \"Bob\": 90,\n",
        "    \"Charlie\": 78\n",
        "}\n",
        "print(\"Dictionary:\", student_scores)\n",
        "\n",
        "# Accessing Values by Key\n",
        "print(\"Alice's Score:\", student_scores[\"Alice\"])\n",
        "\n",
        "# Adding a New Key-Value Pair\n",
        "student_scores[\"David\"] = 92\n",
        "print(\"After adding David:\", student_scores)\n",
        "\n",
        "# Creating an Empty Dictionary\n",
        "empty_dict = {}\n",
        "print(\"Empty Dictionary:\", empty_dict)\n",
        "\n",
        "# Using Different Types as Keys\n",
        "valid_dict = {\n",
        "    42: \"The Answer\",\n",
        "    3.14: \"Pi\",\n",
        "    (1, 2): \"Tuple Key\"  # Tuple as a key\n",
        "}\n",
        "print(\"Dictionary with various key types:\", valid_dict)\n",
        "\n",
        "# Invalid Dictionary Example (Uncommenting the next line will raise an error)\n",
        "# invalid_dict = { [1, 2, 3]: \"List as key\" }  # Lists cannot be used as keys\n",
        "# print(invalid_dict)\n"
      ]
    },
    {
      "cell_type": "markdown",
      "metadata": {
        "id": "JWAcC5dcb64Y"
      },
      "source": [
        "# Section 5.6: Looping Techniques\n",
        "\n",
        "- Loop through dictionary items using `items()`.\n",
        "- Use `enumerate()` for index-value pairs.\n",
        "- Use `zip()` to loop through multiple sequences.\n",
        "\n",
        "- Example Code demonstrates looping techniques.\n"
      ]
    },
    {
      "cell_type": "code",
      "execution_count": 35,
      "metadata": {
        "id": "vx4Tyl2Wb8mm"
      },
      "outputs": [
        {
          "name": "stdout",
          "output_type": "stream",
          "text": [
            "Key: name, Value: Alice\n",
            "Key: age, Value: 25\n",
            "Key: city, Value: New York\n",
            "Index: 0, Value: tic\n",
            "Index: 1, Value: tac\n",
            "Index: 2, Value: toe\n",
            "What is your name? Lancelot\n",
            "What is your quest? the holy grail\n",
            "What is your favorite color? blue\n"
          ]
        }
      ],
      "source": [
        "# Looping Techniques\n",
        "my_dict = {'name': 'Alice', 'age': 25, 'city': 'New York'}\n",
        "\n",
        "# Looping through dictionary using items()\n",
        "for key, value in my_dict.items():\n",
        "    print(f\"Key: {key}, Value: {value}\")\n",
        "\n",
        "# Enumerate\n",
        "for index, value in enumerate(['tic', 'tac', 'toe']):\n",
        "    print(f\"Index: {index}, Value: {value}\")\n",
        "\n",
        "# Zip\n",
        "questions = ['name', 'quest', 'favorite color']\n",
        "answers = ['Lancelot', 'the holy grail', 'blue']\n",
        "for q, a in zip(questions, answers):\n",
        "    print(f\"What is your {q}? {a}\")\n"
      ]
    },
    {
      "cell_type": "markdown",
      "metadata": {
        "id": "xK9uFbpPc_h4"
      },
      "source": [
        "- To loop over a sequence in **reverse**:\n",
        "  - Use the `reversed()` function.\n",
        "  - The original sequence remains unaltered.\n",
        "\n",
        "- To loop over a sequence in **sorted order**:\n",
        "  - Use the `sorted()` function.\n",
        "  - Returns a new sorted list while leaving the source sequence unchanged.\n",
        "\n",
        "- Example Code demonstrates both techniques."
      ]
    },
    {
      "cell_type": "code",
      "execution_count": 24,
      "metadata": {
        "id": "_m1zzajcdC9q"
      },
      "outputs": [
        {
          "name": "stdout",
          "output_type": "stream",
          "text": [
            "Original sequence: [1, 3, 5, 2, 4]\n",
            "In reverse: 4\n",
            "In reverse: 2\n",
            "In reverse: 5\n",
            "In reverse: 3\n",
            "In reverse: 1\n",
            "\n",
            "Original sequence: ['orange', 'apple', 'banana', 'pear']\n",
            "In sorted order: apple\n",
            "In sorted order: banana\n",
            "In sorted order: orange\n",
            "In sorted order: pear\n",
            "\n",
            "Original nums after reverse loop: [1, 3, 5, 2, 4]\n",
            "Original fruits after sorted loop: ['orange', 'apple', 'banana', 'pear']\n"
          ]
        }
      ],
      "source": [
        "# Looping in Reverse\n",
        "nums = [1, 3, 5, 2, 4]\n",
        "print(\"Original sequence:\", nums)\n",
        "\n",
        "for num in reversed(nums):\n",
        "    print(\"In reverse:\", num)\n",
        "\n",
        "# Looping in Sorted Order\n",
        "fruits = ['orange', 'apple', 'banana', 'pear']\n",
        "print(\"\\nOriginal sequence:\", fruits)\n",
        "\n",
        "for fruit in sorted(fruits):\n",
        "    print(\"In sorted order:\", fruit)\n",
        "\n",
        "# Verify that the original sequences are unaltered\n",
        "print(\"\\nOriginal nums after reverse loop:\", nums)\n",
        "print(\"Original fruits after sorted loop:\", fruits)\n"
      ]
    },
    {
      "cell_type": "markdown",
      "metadata": {
        "id": "wceJWogedLYL"
      },
      "source": [
        "# Section 5.6: Unique and Sorted Elements & Modifying Lists During Loops\n",
        "\n",
        "- **Using `set()` and `sorted()`**:\n",
        "  - `set()` eliminates duplicate elements in a sequence.\n",
        "  - `sorted()` can then sort the unique elements.\n",
        "  - This is an idiomatic way to loop over unique elements in sorted order.\n",
        "\n",
        "- **Modifying Lists During Loops**:\n",
        "  - Modifying a list while looping over it can lead to unexpected behavior.\n",
        "  - It is safer to create a new list instead of directly modifying the original.\n",
        "\n",
        "- Example Code demonstrates these concepts.\n"
      ]
    },
    {
      "cell_type": "code",
      "execution_count": 25,
      "metadata": {
        "id": "haa9ZukddMsi"
      },
      "outputs": [
        {
          "name": "stdout",
          "output_type": "stream",
          "text": [
            "Unique and sorted elements: ['apple', 'banana', 'orange', 'pear']\n",
            "Element: apple\n",
            "Element: banana\n",
            "Element: orange\n",
            "Element: pear\n",
            "After unsafe modification: [1, 3]\n",
            "After safe modification: [1, 3]\n"
          ]
        }
      ],
      "source": [
        "# Using set() and sorted() to loop over unique and sorted elements\n",
        "sequence = ['apple', 'orange', 'apple', 'banana', 'pear', 'orange']\n",
        "unique_sorted = sorted(set(sequence))\n",
        "print(\"Unique and sorted elements:\", unique_sorted)\n",
        "\n",
        "for element in unique_sorted:\n",
        "    print(\"Element:\", element)\n",
        "\n",
        "# Modifying a list during a loop (unsafe example)\n",
        "nums = [1, 2, 3, 4]\n",
        "for num in nums:\n",
        "    if num % 2 == 0:\n",
        "        nums.remove(num)  # Removing elements while iterating\n",
        "print(\"After unsafe modification:\", nums)  # May behave unexpectedly\n",
        "\n",
        "# Safer way: create a new list\n",
        "nums = [1, 2, 3, 4]\n",
        "new_nums = [num for num in nums if num % 2 != 0]\n",
        "print(\"After safe modification:\", new_nums)\n"
      ]
    },
    {
      "cell_type": "markdown",
      "metadata": {
        "id": "OMqnhOkGdS_F"
      },
      "source": [
        "# Section 5.7: More on Conditions\n",
        "\n",
        "- **Operators in `while` and `if` Statements**:\n",
        "  - Can include any type of operator, not just comparisons.\n",
        "\n",
        "- **Comparison Operators**:\n",
        "  - `in` / `not in`: Check whether a value occurs (or does not occur) in a sequence.\n",
        "  - `is` / `is not`: Check whether two objects are the same object in memory.\n",
        "\n",
        "- **Operator Priority**:\n",
        "  - All comparison operators have the same priority.\n",
        "  - Their priority is lower than numerical operators (e.g., addition or multiplication).\n",
        "\n",
        "- **Chained Comparisons**:\n",
        "  - Comparisons can be chained for concise expressions.\n",
        "  - Example: `a < b == c` checks whether `a` is less than `b` and `b` equals `c`.\n",
        "\n",
        "- Example Code demonstrates these concepts.\n"
      ]
    },
    {
      "cell_type": "code",
      "execution_count": 26,
      "metadata": {
        "id": "9ddA8YzldUYf"
      },
      "outputs": [
        {
          "name": "stdout",
          "output_type": "stream",
          "text": [
            "x is between 3 and 10.\n",
            "2 in sequence: True\n",
            "5 not in sequence: True\n",
            "a is b: False\n",
            "a == b: True\n",
            "a < b == c: True\n"
          ]
        }
      ],
      "source": [
        "# Conditions and Comparisons\n",
        "\n",
        "# Using comparison operators in if/while\n",
        "x = 5\n",
        "if x > 3 and x < 10:  # Logical and comparison operators\n",
        "    print(\"x is between 3 and 10.\")\n",
        "\n",
        "# 'in' and 'not in' Operators\n",
        "sequence = [1, 2, 3, 4]\n",
        "print(\"2 in sequence:\", 2 in sequence)\n",
        "print(\"5 not in sequence:\", 5 not in sequence)\n",
        "\n",
        "# 'is' and 'is not' Operators\n",
        "a = [1, 2, 3]\n",
        "b = [1, 2, 3]\n",
        "print(\"a is b:\", a is b)  # False (different objects)\n",
        "print(\"a == b:\", a == b)  # True (same values)\n",
        "\n",
        "# Chained Comparisons\n",
        "a, b, c = 2, 3, 3\n",
        "print(\"a < b == c:\", a < b == c)  # True (a < b and b == c)\n"
      ]
    },
    {
      "cell_type": "markdown",
      "metadata": {
        "id": "DQlYm45WdXS2"
      },
      "source": [
        "# Section 5.7: More on Conditions (cont.)\n",
        "\n",
        "- **Combining Comparisons with Boolean Operators**:\n",
        "  - Comparisons can be combined using `and`, `or`, and negated using `not`.\n",
        "  \n",
        "- **Operator Precedence**:\n",
        "  - Boolean operators have lower precedence than comparison operators.\n",
        "  - `not` has the highest priority among Boolean operators.\n",
        "  - `and` has a higher priority than `or`.\n",
        "\n",
        "- **Evaluation Order**:\n",
        "  - `A and not B or C` is evaluated as: `(A and (not B)) or C`\n",
        "  - Parentheses can be used to explicitly control the order of operations.\n",
        "\n",
        "- **Example Code demonstrates these concepts.**\n"
      ]
    },
    {
      "cell_type": "code",
      "execution_count": 27,
      "metadata": {
        "id": "Pl9T3FWbdbX1"
      },
      "outputs": [
        {
          "name": "stdout",
          "output_type": "stream",
          "text": [
            "Result of A and not B or C: True\n",
            "With parentheses: True\n",
            "not x < y: False\n",
            "x < y and y > z or z == 0: True\n",
            "(x < y and (y > z or z == 0)): True\n"
          ]
        }
      ],
      "source": [
        "# Boolean Operators and Precedence\n",
        "\n",
        "A = True\n",
        "B = False\n",
        "C = True\n",
        "\n",
        "# Default Evaluation Order: A and not B or C\n",
        "result = A and not B or C\n",
        "print(\"Result of A and not B or C:\", result)  # Equivalent to (A and (not B)) or C\n",
        "\n",
        "# Using Parentheses for Clarity\n",
        "result_with_parentheses = A and (not B) or C\n",
        "print(\"With parentheses:\", result_with_parentheses)\n",
        "\n",
        "# Testing Precedence\n",
        "x, y, z = 5, 10, 0\n",
        "\n",
        "# 'not' has highest priority\n",
        "print(\"not x < y:\", not x < y)  # False (negates True)\n",
        "\n",
        "# 'and' has higher priority than 'or'\n",
        "print(\"x < y and y > z or z == 0:\", x < y and y > z or z == 0)\n",
        "# Equivalent to: (True and True) or True → True or True → True\n",
        "\n",
        "# Parentheses for explicit control\n",
        "print(\"(x < y and (y > z or z == 0)):\", (x < y and (y > z or z == 0)))\n",
        "# Equivalent to: True and (True or True) → True and True → True\n"
      ]
    },
    {
      "cell_type": "markdown",
      "metadata": {
        "id": "UIfV1BQbdicm"
      },
      "source": [
        "# Section 5.7: More on Conditions (cont.)\n",
        "\n",
        "- **Short-Circuit Evaluation:**\n",
        "  - Boolean operators `and` and `or` evaluate left to right.\n",
        "  - Evaluation **stops as soon as the outcome is determined**.\n",
        "  - Example: If `A and B and C`, and `B` is `False`, `C` is **never evaluated**.\n",
        "\n",
        "- **Return Values in Short-Circuiting:**\n",
        "  - When used as general values (not just Booleans), `and` and `or` return the **last evaluated argument**.\n",
        "\n",
        "- **Assigning Boolean Expressions:**\n",
        "  - The result of a Boolean expression can be stored in a variable.\n",
        "\n",
        "- **Walrus Operator (`:=`):**\n",
        "  - Python **does not allow** assignment inside expressions using `=`, unlike C.\n",
        "  - Instead, the **walrus operator (`:=`)** must be used.\n",
        "  - This prevents common mistakes where `=` is used instead of `==`.\n",
        "\n",
        "- **Example Code demonstrates these concepts.**\n"
      ]
    },
    {
      "cell_type": "code",
      "execution_count": 28,
      "metadata": {
        "id": "3eTHi2OXdkJA"
      },
      "outputs": [
        {
          "name": "stdout",
          "output_type": "stream",
          "text": [
            "Result of A and B and C: False\n",
            "Result of A or B or C: True\n",
            "Short-circuit return value (and): False\n",
            "Short-circuit return value (or): True\n",
            "String length is 11, which is greater than 5.\n"
          ]
        }
      ],
      "source": [
        "# Short-Circuit Evaluation Example\n",
        "\n",
        "A, B, C = True, False, True\n",
        "\n",
        "# 'B' is False, so 'C' is never evaluated\n",
        "result = A and B and C\n",
        "print(\"Result of A and B and C:\", result)  # Output: False\n",
        "\n",
        "# 'or' short-circuits after the first True value\n",
        "result_or = A or B or C\n",
        "print(\"Result of A or B or C:\", result_or)  # Output: True (A is True, so B and C are not checked)\n",
        "\n",
        "# Demonstrating return values of short-circuiting\n",
        "print(\"Short-circuit return value (and):\", A and B)  # Returns B (False)\n",
        "print(\"Short-circuit return value (or):\", A or B)   # Returns A (True)\n",
        "\n",
        "# Assignment inside expressions using the Walrus Operator (:=)\n",
        "if (n := len(\"Hello World\")) > 5:\n",
        "    print(f\"String length is {n}, which is greater than 5.\")\n",
        "\n",
        "# Incorrect: Uncommenting the following line will cause a SyntaxError\n",
        "# if n = 5:  # This is not allowed in Python\n",
        "#     print(n)\n"
      ]
    },
    {
      "cell_type": "markdown",
      "metadata": {
        "id": "bDW6G6c6dobW"
      },
      "source": [
        "# Section 5.8: Comparing Sequences and Other Types\n",
        "\n",
        "- **Comparing Sequences**:\n",
        "  - Sequence objects (e.g., lists, tuples, strings) can be compared to others of the same type.\n",
        "  - Comparisons use **lexicographical ordering**.\n",
        "\n",
        "- **Lexicographical Ordering**:\n",
        "  1. The first two items are compared.\n",
        "  2. If they differ, this determines the outcome.\n",
        "  3. If they are equal, the next two items are compared.\n",
        "  4. This continues until either sequence is exhausted.\n",
        "\n",
        "- **Recursive Comparisons**:\n",
        "  - If elements being compared are themselves sequences, their comparison is done recursively.\n",
        "\n",
        "- **Rules for Comparison**:\n",
        "  - If all items in two sequences are equal, the sequences are **considered equal**.\n",
        "  - If one sequence is a **sub-sequence** of another, the shorter sequence is considered **smaller**.\n",
        "\n",
        "- **Strings and Unicode**:\n",
        "  - Strings follow lexicographical order based on **Unicode code point numbers**.\n",
        "\n",
        "- **Example Code demonstrates these concepts.**\n"
      ]
    },
    {
      "cell_type": "code",
      "execution_count": 29,
      "metadata": {
        "id": "OBbkz2LLdqUI"
      },
      "outputs": [
        {
          "name": "stdout",
          "output_type": "stream",
          "text": [
            "list1 < list2: True\n",
            "list1 == list3: False\n",
            "list1 < list3: True\n",
            "tuple1 < tuple2: True\n",
            "nested_tuple1 < nested_tuple2: True\n",
            "'apple' < 'banana': True\n",
            "'abc' < 'abcd': True\n",
            "'Zebra' < 'apple': True\n"
          ]
        }
      ],
      "source": [
        "# Lexicographical Comparison of Sequences\n",
        "\n",
        "# List comparison\n",
        "list1 = [1, 2, 3]\n",
        "list2 = [1, 2, 4]\n",
        "list3 = [1, 2, 3, 0]\n",
        "\n",
        "print(\"list1 < list2:\", list1 < list2)  # True (compares 3 < 4)\n",
        "print(\"list1 == list3:\", list1 == list3)  # False (list3 has extra element)\n",
        "print(\"list1 < list3:\", list1 < list3)  # True (shorter sequence is smaller)\n",
        "\n",
        "# Tuple comparison (same rules as lists)\n",
        "tuple1 = (10, 20, 30)\n",
        "tuple2 = (10, 20, 40)\n",
        "\n",
        "print(\"tuple1 < tuple2:\", tuple1 < tuple2)  # True (compares 30 < 40)\n",
        "\n",
        "# Recursive Comparison\n",
        "nested_tuple1 = (1, (2, 3))\n",
        "nested_tuple2 = (1, (2, 4))\n",
        "\n",
        "print(\"nested_tuple1 < nested_tuple2:\", nested_tuple1 < nested_tuple2)  # True (compares 3 < 4)\n",
        "\n",
        "# String comparison (Unicode ordering)\n",
        "print(\"'apple' < 'banana':\", \"apple\" < \"banana\")  # True ('a' < 'b')\n",
        "print(\"'abc' < 'abcd':\", \"abc\" < \"abcd\")  # True (shorter string is smaller)\n",
        "print(\"'Zebra' < 'apple':\", \"Zebra\" < \"apple\")  # True ('Z' < 'a' in Unicode)\n"
      ]
    },
    {
      "cell_type": "markdown",
      "metadata": {
        "id": "oopKiSPKhfBv"
      },
      "source": [
        "#Other useful built-in functions\n",
        "- `lambda` expression with `if-else`:\n",
        "  - Syntax: `lambda x: value_if_true if condition else  value_if_false`\n",
        "- `map(function, iterable)`:\n",
        "\n",
        "  - `map()` is used to appplied a specific function into the iterable data structure to transform each element\n",
        "  - You can use any function, including `lambda` function\n",
        "  - `map()` return the iterator. In order to convert the iterator into a list, we can use the list constructor: `list()`\n",
        "  - You can also add `if` statement in your `lambda` function to select the elements based on specific conditions\n",
        "\n",
        "- `filter(function, iterable)`:\n",
        "\n",
        "  - `filter()` is used to select/remove elements based on specific conditions from a iterable data structure.\n",
        "  - Similar to `map()`, you can use `lambda` as your function\n",
        "  - `filter()` return iterator, so use list() to convert to a list\n",
        "  - `function` that is used in `filter` oftentimes return `True` or `False`\n",
        "\n",
        "- `string.strip([chars])`:\n",
        "\n",
        "  - `strip()` is used to remove leading(beginning) and trailing(ending) characters of a string. By default, `strip()` will remove white space character\n",
        "  - `strip()` will return a new string and will not modify the original string\n",
        "  - `strip()` will keepremoving characters from the beginning and end of the string until it encounters a character that is not in the set of characters.\n",
        "\n",
        "\n",
        "\n",
        "\n",
        "\n"
      ]
    },
    {
      "cell_type": "code",
      "execution_count": 33,
      "metadata": {
        "colab": {
          "base_uri": "https://localhost:8080/"
        },
        "id": "TfF6Jx9MhmVz",
        "outputId": "2a743540-e4fd-4fe0-ce75-210693e5acf4"
      },
      "outputs": [
        {
          "name": "stdout",
          "output_type": "stream",
          "text": [
            "Using map() to convert to uppercase: ['DAVID', 'JOHN']\n",
            "Return square if square is not even, otherwise return the original element: [1, 2, 9, 4, 25]\n"
          ]
        }
      ],
      "source": [
        "list1 = [1,2,3,4,5]\n",
        "list2 = ['david', 'john']\n",
        "#Example of map() with lambda expression\n",
        "new_list = list(map(lambda x: x.upper(), list2))\n",
        "print(\"Using map() to convert to uppercase:\", new_list)\n",
        "\n",
        "#Example of map() with lambda expression\n",
        "not_even = list(map(lambda x: x**2 if x**2%2 != 0 else x, list1))\n",
        "print(\"Return square if square is not even, otherwise return the original element:\", not_even)"
      ]
    },
    {
      "cell_type": "code",
      "execution_count": 2,
      "metadata": {
        "colab": {
          "base_uri": "https://localhost:8080/"
        },
        "id": "aYyHWUPPiMSN",
        "outputId": "b7ac7670-b5c9-48ec-ada1-62bb153d0516"
      },
      "outputs": [
        {
          "name": "stdout",
          "output_type": "stream",
          "text": [
            "Remove negative numbers: [4, 8, 9]\n",
            "Remove positive numbers: [-1, -6, -7]\n"
          ]
        }
      ],
      "source": [
        "list1 = [-1,4,-6,-7,8,9]\n",
        "\n",
        "def greater_than_zero(x):\n",
        "  if x > 0:\n",
        "    return True\n",
        "  else:\n",
        "    return False\n",
        "\n",
        "#Example of using filter and defined function\n",
        "new_list = list(filter(greater_than_zero, list1))\n",
        "print(\"Remove negative numbers:\", new_list)\n",
        "\n",
        "#Example of using filter and lambda to remove negative numbers\n",
        "new_list = list(filter(lambda x: x < 0, list1))\n",
        "print(\"Remove positive numbers:\", new_list)"
      ]
    },
    {
      "cell_type": "code",
      "execution_count": 7,
      "metadata": {
        "colab": {
          "base_uri": "https://localhost:8080/"
        },
        "id": "BkRDV7etrz2I",
        "outputId": "aa4c0a40-ec57-49e5-f5b6-0a1103b24b63"
      },
      "outputs": [
        {
          "name": "stdout",
          "output_type": "stream",
          "text": [
            "Original string:             Hello            \n",
            "String without space: Hello\n",
            "Original string: abcabcbcHelloabcabcb\n",
            "String without letter: Hello\n",
            "Original string: ababababcappleababacba\n",
            "String without abc: pple\n"
          ]
        }
      ],
      "source": [
        "#Using strip to remove white space\n",
        "str_with_space = \"            Hello            \"\n",
        "print(\"Original string:\", str_with_space)\n",
        "str_without_space = str_with_space.strip()\n",
        "print(\"String without space:\", str_without_space)\n",
        "\n",
        "#Using strip() to remove other characters\n",
        "str_with_letter = \"abcabcbcHelloabcabcb\"\n",
        "print(\"Original string:\", str_with_letter)\n",
        "str_without_letter = str_with_letter.strip('abc')\n",
        "print(\"String without letter:\", str_without_letter)\n",
        "\n",
        "#Example  of accidentally remove character with strip()\n",
        "str_apple = \"ababababcappleababacba\"\n",
        "print(\"Original string:\", str_apple)\n",
        "str_without_abc = str_apple.strip('abc')\n",
        "print(\"String without abc:\", str_without_abc)"
      ]
    },
    {
      "cell_type": "code",
      "execution_count": 17,
      "metadata": {
        "id": "oBoL64zaJfyH"
      },
      "outputs": [],
      "source": []
    },
    {
      "cell_type": "code",
      "execution_count": 16,
      "metadata": {
        "id": "7ecX7ktRLP_L"
      },
      "outputs": [],
      "source": []
    },
    {
      "cell_type": "code",
      "execution_count": null,
      "metadata": {
        "id": "9mzZz_aJQip2"
      },
      "outputs": [],
      "source": []
    }
  ],
  "metadata": {
    "colab": {
      "provenance": []
    },
    "kernelspec": {
      "display_name": "Python 3",
      "name": "python3"
    },
    "language_info": {
      "codemirror_mode": {
        "name": "ipython",
        "version": 3
      },
      "file_extension": ".py",
      "mimetype": "text/x-python",
      "name": "python",
      "nbconvert_exporter": "python",
      "pygments_lexer": "ipython3",
      "version": "3.13.2"
    }
  },
  "nbformat": 4,
  "nbformat_minor": 0
}
